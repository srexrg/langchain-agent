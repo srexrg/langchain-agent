{
 "cells": [
  {
   "cell_type": "markdown",
   "metadata": {},
   "source": [
    "Database Credentials\n"
   ]
  },
  {
   "cell_type": "code",
   "execution_count": 1,
   "metadata": {},
   "outputs": [
    {
     "data": {
      "text/plain": [
       "True"
      ]
     },
     "execution_count": 1,
     "metadata": {},
     "output_type": "execute_result"
    }
   ],
   "source": [
    "import os\n",
    "\n",
    "from dotenv import load_dotenv\n",
    "\n",
    "load_dotenv()"
   ]
  },
  {
   "cell_type": "code",
   "execution_count": 2,
   "metadata": {},
   "outputs": [],
   "source": [
    "os.environ[\"OPENAI_API_KEY\"] = os.getenv(\"OPENAI_API_KEY\")"
   ]
  },
  {
   "cell_type": "code",
   "execution_count": 3,
   "metadata": {},
   "outputs": [
    {
     "name": "stdout",
     "output_type": "stream",
     "text": [
      "mysql\n",
      "['ad_creatives', 'ad_insights', 'ad_tracking_specs', 'ads', 'campaign_actions', 'campaign_conversions', 'campaign_insights', 'campaigns']\n",
      "\n",
      "CREATE TABLE ad_creatives (\n",
      "\tid BIGINT NOT NULL, \n",
      "\tname VARCHAR(255), \n",
      "\ttitle VARCHAR(255), \n",
      "\tbody TEXT, \n",
      "\tthumbnail_url TEXT, \n",
      "\tvideo_id BIGINT, \n",
      "\tcall_to_action_type VARCHAR(50), \n",
      "\tpage_id VARCHAR(50), \n",
      "\tPRIMARY KEY (id)\n",
      ")ENGINE=InnoDB COLLATE utf8mb4_0900_ai_ci DEFAULT CHARSET=utf8mb4\n",
      "\n",
      "/*\n",
      "3 rows from ad_creatives table:\n",
      "id\tname\ttitle\tbody\tthumbnail_url\tvideo_id\tcall_to_action_type\tpage_id\n",
      "120213321698260311\tBe the Monk in Marketing 2024-05-22-06a6e70c8d6b902539eaa0f241f2e1c4\tBe the Monk in Marketing\t🚀 Elevate your game! Dentsu & Publicis insiders swear by us. Unlock 🔓 top case studies for free.\thttps://external.fmaa1-2.fna.fbcdn.net/emg1/v/t13/6227554188890667404?url=https%3A%2F%2Fwww.facebook\tNone\tSUBSCRIBE\t125267114004054\n",
      "120213858232380311\t{{product.name}} 2024-06-10-e966e3395993c4a04c6f1e2f176eb43f\tNone\tNone\thttps://scontent.fmaa1-2.fna.fbcdn.net/v/t45.1600-4/441823918_120213857955590311_7513623919441861051\tNone\tNone\t125267114004054\n",
      "120213858799770311\tMarketing Monk 2024-06-10-eafc1fcacdb3ace323ab7c550f301160\tMarketing Monk\tReady to elevate your marketing skills? Look no further than Marketing Monk's FREE newsletter!\thttps://external.fmaa1-2.fna.fbcdn.net/emg1/v/t13/392420260200858147?url=https%3A%2F%2Fwww.facebook.\tNone\tSUBSCRIBE\t125267114004054\n",
      "*/\n",
      "\n",
      "\n",
      "CREATE TABLE ad_insights (\n",
      "\tid BIGINT NOT NULL AUTO_INCREMENT, \n",
      "\tad_id BIGINT, \n",
      "\timpressions INTEGER, \n",
      "\tclicks INTEGER, \n",
      "\tspend DECIMAL(10, 2), \n",
      "\treach INTEGER, \n",
      "\tfrequency DECIMAL(10, 6), \n",
      "\tctr DECIMAL(10, 6), \n",
      "\tcpm DECIMAL(10, 6), \n",
      "\tcpp DECIMAL(10, 6), \n",
      "\tdate_start DATE, \n",
      "\tdate_stop DATE, \n",
      "\tPRIMARY KEY (id), \n",
      "\tCONSTRAINT ad_insights_ibfk_1 FOREIGN KEY(ad_id) REFERENCES ads (id)\n",
      ")ENGINE=InnoDB COLLATE utf8mb4_0900_ai_ci DEFAULT CHARSET=utf8mb4\n",
      "\n",
      "/*\n",
      "3 rows from ad_insights table:\n",
      "id\tad_id\timpressions\tclicks\tspend\treach\tfrequency\tctr\tcpm\tcpp\tdate_start\tdate_stop\n",
      "2\t120215699526770311\t42807\t264\t1988.24\t35327\t1.211736\t0.616722\t46.446609\t56.281032\t2024-08-17\t2024-08-24\n",
      "3\t120215698785280311\t54779\t672\t1989.36\t45424\t1.205948\t1.226747\t36.316107\t43.795350\t2024-08-17\t2024-08-24\n",
      "4\t120215451340430311\t146946\t924\t6332.79\t97383\t1.508949\t0.628802\t43.096035\t65.029728\t2024-08-17\t2024-08-24\n",
      "*/\n",
      "\n",
      "\n",
      "CREATE TABLE ad_tracking_specs (\n",
      "\tid BIGINT NOT NULL AUTO_INCREMENT, \n",
      "\tad_id BIGINT, \n",
      "\taction_type VARCHAR(50), \n",
      "\tfb_pixel VARCHAR(50), \n",
      "\tpost VARCHAR(50), \n",
      "\tpost_wall VARCHAR(50), \n",
      "\tpage VARCHAR(50), \n",
      "\tPRIMARY KEY (id), \n",
      "\tCONSTRAINT ad_tracking_specs_ibfk_1 FOREIGN KEY(ad_id) REFERENCES ads (id)\n",
      ")ENGINE=InnoDB COLLATE utf8mb4_0900_ai_ci DEFAULT CHARSET=utf8mb4\n",
      "\n",
      "/*\n",
      "3 rows from ad_tracking_specs table:\n",
      "id\tad_id\taction_type\tfb_pixel\tpost\tpost_wall\tpage\n",
      "5\t120215699526770311\toffsite_conversion\t1430008937577016\tNone\tNone\tNone\n",
      "6\t120215699526770311\tonsite_conversion\tNone\tNone\tNone\tNone\n",
      "7\t120215699526770311\tlink_click\tNone\t122183406704036541\t125267114004054\tNone\n",
      "*/\n",
      "\n",
      "\n",
      "CREATE TABLE ads (\n",
      "\tid BIGINT NOT NULL, \n",
      "\tname VARCHAR(255), \n",
      "\tstatus VARCHAR(20), \n",
      "\tcampaign_id BIGINT, \n",
      "\taccount_id VARCHAR(50), \n",
      "\tplatform VARCHAR(50), \n",
      "\tPRIMARY KEY (id)\n",
      ")ENGINE=InnoDB COLLATE utf8mb4_0900_ai_ci DEFAULT CHARSET=utf8mb4\n",
      "\n",
      "/*\n",
      "3 rows from ads table:\n",
      "id\tname\tstatus\tcampaign_id\taccount_id\tplatform\n",
      "120213321637610311\tMM_iCloudNote_Ad_Insta\tACTIVE\t120213321637590311\tact_624496083171435\tFacebook\n",
      "120213857819190311\tMM_DarkGraph_Ad_Insta\tACTIVE\t120213857819140311\tact_624496083171435\tFacebook\n",
      "120213858236900311\tMM_Text_Ad_Insta\tACTIVE\t120213858236880311\tact_624496083171435\tFacebook\n",
      "*/\n",
      "\n",
      "\n",
      "CREATE TABLE campaign_actions (\n",
      "\tid BIGINT NOT NULL AUTO_INCREMENT, \n",
      "\tcampaign_insight_id BIGINT, \n",
      "\taction_type VARCHAR(100), \n",
      "\tvalue INTEGER, \n",
      "\tPRIMARY KEY (id), \n",
      "\tCONSTRAINT campaign_actions_ibfk_1 FOREIGN KEY(campaign_insight_id) REFERENCES campaign_insights (id)\n",
      ")ENGINE=InnoDB COLLATE utf8mb4_0900_ai_ci DEFAULT CHARSET=utf8mb4\n",
      "\n",
      "/*\n",
      "3 rows from campaign_actions table:\n",
      "id\tcampaign_insight_id\taction_type\tvalue\n",
      "9\t2\tlanding_page_view\t70\n",
      "10\t2\tonsite_conversion.post_save\t15\n",
      "11\t2\tpage_engagement\t358\n",
      "*/\n",
      "\n",
      "\n",
      "CREATE TABLE campaign_conversions (\n",
      "\tid BIGINT NOT NULL AUTO_INCREMENT, \n",
      "\tcampaign_insight_id BIGINT, \n",
      "\taction_type VARCHAR(100), \n",
      "\tvalue INTEGER, \n",
      "\tPRIMARY KEY (id), \n",
      "\tCONSTRAINT campaign_conversions_ibfk_1 FOREIGN KEY(campaign_insight_id) REFERENCES campaign_insights (id)\n",
      ")ENGINE=InnoDB COLLATE utf8mb4_0900_ai_ci DEFAULT CHARSET=utf8mb4\n",
      "\n",
      "/*\n",
      "3 rows from campaign_conversions table:\n",
      "id\tcampaign_insight_id\taction_type\tvalue\n",
      "1\t2\tsubscribe_website\t51\n",
      "2\t2\tsubscribe_total\t51\n",
      "3\t3\tsubscribe_website\t192\n",
      "*/\n",
      "\n",
      "\n",
      "CREATE TABLE campaign_insights (\n",
      "\tid BIGINT NOT NULL AUTO_INCREMENT, \n",
      "\tcampaign_id BIGINT, \n",
      "\timpressions INTEGER, \n",
      "\tclicks INTEGER, \n",
      "\tspend DECIMAL(10, 2), \n",
      "\treach INTEGER, \n",
      "\tfrequency DECIMAL(10, 6), \n",
      "\tctr DECIMAL(10, 6), \n",
      "\tcpm DECIMAL(10, 6), \n",
      "\tcpp DECIMAL(10, 6), \n",
      "\tcpc DECIMAL(10, 6), \n",
      "\tunique_clicks INTEGER, \n",
      "\tunique_ctr DECIMAL(10, 6), \n",
      "\tdate_start DATE, \n",
      "\tdate_stop DATE, \n",
      "\tPRIMARY KEY (id), \n",
      "\tCONSTRAINT campaign_insights_ibfk_1 FOREIGN KEY(campaign_id) REFERENCES campaigns (id)\n",
      ")ENGINE=InnoDB COLLATE utf8mb4_0900_ai_ci DEFAULT CHARSET=utf8mb4\n",
      "\n",
      "/*\n",
      "3 rows from campaign_insights table:\n",
      "id\tcampaign_id\timpressions\tclicks\tspend\treach\tfrequency\tctr\tcpm\tcpp\tcpc\tunique_clicks\tunique_ctr\tdate_start\tdate_stop\n",
      "2\t120215699526790311\t42807\t264\t1988.24\t35327\t1.211736\t0.616722\t46.446609\t56.281032\tNone\t248\t0.702013\t2024-08-17\t2024-08-24\n",
      "3\t120215698785120311\t54779\t672\t1989.36\t45424\t1.205948\t1.226747\t36.316107\t43.795350\tNone\t628\t1.382529\t2024-08-17\t2024-08-24\n",
      "4\t120215463137090311\t17611\t130\t820.54\t16003\t1.100481\t0.738175\t46.592471\t51.274136\tNone\t115\t0.718615\t2024-08-17\t2024-08-24\n",
      "*/\n",
      "\n",
      "\n",
      "CREATE TABLE campaigns (\n",
      "\tid BIGINT NOT NULL, \n",
      "\tname VARCHAR(255), \n",
      "\tplatform VARCHAR(50), \n",
      "\tobjective VARCHAR(50), \n",
      "\tstatus VARCHAR(20), \n",
      "\tstart_time DATETIME, \n",
      "\tdaily_budget DECIMAL(10, 2), \n",
      "\tbid_strategy VARCHAR(50), \n",
      "\tPRIMARY KEY (id)\n",
      ")ENGINE=InnoDB COLLATE utf8mb4_0900_ai_ci DEFAULT CHARSET=utf8mb4\n",
      "\n",
      "/*\n",
      "3 rows from campaigns table:\n",
      "id\tname\tplatform\tobjective\tstatus\tstart_time\tdaily_budget\tbid_strategy\n",
      "120213321637590311\tMM-Static_iCloudNote_23052024\tFacebook\tOUTCOME_LEADS\tACTIVE\t2024-05-23 03:12:53\t65000.00\tLOWEST_COST_WITHOUT_CAP\n",
      "120213857819140311\tMM_StaticAd_DarkGraph_10062024\tFacebook\tOUTCOME_LEADS\tACTIVE\t2024-06-10 09:40:40\tNone\tNone\n",
      "120213858236880311\tMM_Static_TextAd_10062024\tFacebook\tOUTCOME_LEADS\tACTIVE\t2024-06-10 09:52:59\tNone\tNone\n",
      "*/\n"
     ]
    }
   ],
   "source": [
    "import os\n",
    "from dotenv import load_dotenv\n",
    "from langchain_community.utilities.sql_database import SQLDatabase\n",
    "\n",
    "# Load environment variables\n",
    "load_dotenv()\n",
    "\n",
    "# Get database credentials from environment variables\n",
    "db_user = os.getenv(\"DB_USER\")\n",
    "db_password = os.getenv(\"DB_PASSWORD\")\n",
    "db_host = os.getenv(\"DB_HOST\")\n",
    "db_port = os.getenv(\"DB_PORT\")\n",
    "db_name = os.getenv(\"DB_NAME\")\n",
    "\n",
    "# Create database connection\n",
    "db = SQLDatabase.from_uri(f\"mysql+pymysql://{db_user}:{db_password}@{db_host}:{db_port}/{db_name}\")\n",
    "print(db.dialect)\n",
    "print(db.get_usable_table_names())\n",
    "print(db.table_info)"
   ]
  },
  {
   "cell_type": "code",
   "execution_count": 4,
   "metadata": {},
   "outputs": [
    {
     "name": "stdout",
     "output_type": "stream",
     "text": [
      "SELECT campaigns.id, campaigns.name, SUM(campaign_insights.clicks) AS total_clicks\n",
      "FROM campaigns\n",
      "JOIN campaign_insights ON campaigns.id = campaign_insights.campaign_id\n",
      "GROUP BY campaigns.id\n",
      "ORDER BY total_clicks DESC\n",
      "LIMIT 1;\n"
     ]
    }
   ],
   "source": [
    "from langchain.chains import create_sql_query_chain\n",
    "from langchain_openai import ChatOpenAI\n",
    "\n",
    "llm=ChatOpenAI(model_name=\"gpt-3.5-turbo\", temperature=0)\n",
    "generate_query_chain=create_sql_query_chain(llm, db)\n",
    "\n",
    "query=generate_query_chain.invoke({\"question\":\"which campaign has the most clicks?\"})\n",
    "\n",
    "print(query)\n"
   ]
  },
  {
   "cell_type": "code",
   "execution_count": 5,
   "metadata": {},
   "outputs": [
    {
     "data": {
      "text/plain": [
       "\"[(120214454200140311, 'MM_Motion(B)_VideoAd_07072024', Decimal('2122'))]\""
      ]
     },
     "execution_count": 5,
     "metadata": {},
     "output_type": "execute_result"
    }
   ],
   "source": [
    "from langchain_community.tools.sql_database.tool import QuerySQLDataBaseTool\n",
    "execute_query = QuerySQLDataBaseTool(db=db)\n",
    "execute_query.invoke(query)\n"
   ]
  },
  {
   "cell_type": "code",
   "execution_count": 6,
   "metadata": {},
   "outputs": [
    {
     "data": {
      "text/plain": [
       "\"[(120214454200140311, 'MM_Motion(B)_VideoAd_07072024', Decimal('2122'))]\""
      ]
     },
     "execution_count": 6,
     "metadata": {},
     "output_type": "execute_result"
    }
   ],
   "source": [
    "chain= generate_query_chain | execute_query\n",
    "chain.invoke({\"question\":\"Which campaign has the most clicks?\"})"
   ]
  },
  {
   "cell_type": "code",
   "execution_count": 7,
   "metadata": {},
   "outputs": [
    {
     "name": "stdout",
     "output_type": "stream",
     "text": [
      "You are a MySQL expert. Given an input question, first create a syntactically correct MySQL query to run, then look at the results of the query and return the answer to the input question.\n",
      "Unless the user specifies in the question a specific number of examples to obtain, query for at most 5 results using the LIMIT clause as per MySQL. You can order the results to return the most informative data in the database.\n",
      "Never query for all columns from a table. You must query only the columns that are needed to answer the question. Wrap each column name in backticks (`) to denote them as delimited identifiers.\n",
      "Pay attention to use only the column names you can see in the tables below. Be careful to not query for columns that do not exist. Also, pay attention to which column is in which table.\n",
      "Pay attention to use CURDATE() function to get the current date, if the question involves \"today\".\n",
      "\n",
      "Use the following format:\n",
      "\n",
      "Question: Question here\n",
      "SQLQuery: SQL Query to run\n",
      "SQLResult: Result of the SQLQuery\n",
      "Answer: Final answer here\n",
      "\n",
      "Only use the following tables:\n",
      "\u001b[33;1m\u001b[1;3m{table_info}\u001b[0m\n",
      "\n",
      "Question: \u001b[33;1m\u001b[1;3m{input}\u001b[0m\n"
     ]
    }
   ],
   "source": [
    "chain.get_prompts()[0].pretty_print()"
   ]
  },
  {
   "cell_type": "code",
   "execution_count": 28,
   "metadata": {},
   "outputs": [
    {
     "data": {
      "text/plain": [
       "\"1. **Core Topic and Intent**: The user is interested in identifying the ad that has received the most clicks.\\n\\n2. **Interpretation and Actionable Answer**: The SQL query attempted to retrieve the ad with the highest number of clicks by joining the `ads` and `ad_insights` tables and ordering the results by the `clicks` column in descending order. However, there seems to be a syntax error in the query that needs to be corrected to execute successfully.\\n\\n3. **Insights and Recommendations**:\\n   - Without the actual query execution, we can't provide the specific ad with the most clicks. However, once the syntax error is fixed, running the corrected query will reveal the ad that has garnered the highest number of clicks.\\n   - To further analyze the performance of this top-clicked ad, you can look into metrics like click-through rate (CTR), conversion rate, and cost per click (CPC) to gain a more comprehensive understanding of its effectiveness.\\n\\n4. **Actionable Recommendations**:\\n   - Optimize the top-clicked ad further by analyzing the audience targeting, ad creative, and landing page to maximize its performance.\\n   - Consider A/B testing different ad variations to see if you can improve the click-through rate and overall engagement.\\n\\n5. **Follow-up Analyses**:\\n   - Investigate the time period during which the top-clicked ad received the most clicks to identify any trends or patterns.\\n   - Compare the performance of the top-clicked ad with other ads in the campaign to understand its relative success and potential areas for improvement.\""
      ]
     },
     "execution_count": 28,
     "metadata": {},
     "output_type": "execute_result"
    }
   ],
   "source": [
    "from operator import itemgetter\n",
    "\n",
    "from langchain_core.output_parsers import StrOutputParser\n",
    "from langchain_core.prompts import PromptTemplate\n",
    "from langchain_core.runnables import RunnablePassthrough\n",
    "\n",
    "answer_prompt = PromptTemplate.from_template(\n",
    "     \"\"\"Given the following user question, corresponding SQL query, and SQL result, provide a comprehensive answer following the guidelines below:\n",
    "\n",
    "    You are an expert Meta ads analyst and SQL query specialist. Your task is to interpret user questions about Meta ad performance, generate appropriate SQL queries, and provide comprehensive, data-driven answers.\n",
    "\n",
    "Follow these steps:\n",
    "1. Analyze the user's question to understand the core topic and intent.\n",
    "2. Interpret the query results and provide a clear, actionable answer.\n",
    "3. Include specific metrics, comparative analysis, and performance insights when possible.\n",
    "4. Offer at least two actionable recommendations based on the data.\n",
    "5. Suggest relevant follow-up analyses or questions.\n",
    "\n",
    "Remember to:\n",
    "- Use only the data available in the query results.\n",
    "- Clearly state any assumptions or limitations in your analysis.\n",
    "- Maintain a professional yet conversational tone.\n",
    "- Prioritize accuracy, relevance, and actionable insights.\n",
    "\n",
    " Question: {question}\n",
    " SQL Query: {query}\n",
    " SQL Result: {result}\n",
    " Answer: \"\"\"\n",
    " )\n",
    "\n",
    "rephrase_answer = answer_prompt | llm | StrOutputParser()\n",
    "\n",
    "chain = (\n",
    "    RunnablePassthrough.assign(query=generate_query_chain).assign(\n",
    "        result=itemgetter(\"query\") | execute_query\n",
    "     )\n",
    "     | rephrase_answer\n",
    " )\n",
    "\n",
    "chain.invoke({\"question\": \"Ad with the most clicks?\"})\n",
    "\n",
    "\n",
    "\n",
    "\n",
    "\n",
    "\n"
   ]
  },
  {
   "cell_type": "code",
   "execution_count": 9,
   "metadata": {},
   "outputs": [],
   "source": [
    "examples = [\n",
    "    {\n",
    "        \"input\": \"Which campaign has the highest number of clicks?\",\n",
    "        \"query\": \"\"\"\n",
    "            SELECT c.id, c.name, SUM(ci.clicks) as total_clicks\n",
    "            FROM campaigns c\n",
    "            JOIN campaign_insights ci ON c.id = ci.campaign_id\n",
    "            GROUP BY c.id, c.name\n",
    "            ORDER BY total_clicks DESC\n",
    "            LIMIT 1\n",
    "        \"\"\"\n",
    "    },\n",
    "    {\n",
    "        \"input\": \"What is the average CTR for video ads in the last 30 days?\",\n",
    "        \"query\": \"\"\"\n",
    "            SELECT AVG(ai.ctr) as avg_ctr\n",
    "            FROM ad_insights ai\n",
    "            JOIN ads a ON ai.ad_id = a.id\n",
    "            JOIN ad_creatives ac ON a.id = ac.id\n",
    "            WHERE ac.video_id IS NOT NULL\n",
    "              AND ai.date_start >= DATE_SUB(CURDATE(), INTERVAL 30 DAY)\n",
    "        \"\"\"\n",
    "    },\n",
    "    {\n",
    "        \"input\": \"List the top 5 campaigns by conversion rate for 'purchase' actions.\",\n",
    "        \"query\": \"\"\"\n",
    "            SELECT c.name, \n",
    "                   SUM(cc.value) as total_purchases,\n",
    "                   SUM(ci.clicks) as total_clicks,\n",
    "                   (SUM(cc.value) / SUM(ci.clicks)) * 100 as conversion_rate\n",
    "            FROM campaigns c\n",
    "            JOIN campaign_insights ci ON c.id = ci.campaign_id\n",
    "            JOIN campaign_conversions cc ON ci.id = cc.campaign_insight_id\n",
    "            WHERE cc.action_type = 'purchase'\n",
    "            GROUP BY c.id, c.name\n",
    "            ORDER BY conversion_rate DESC\n",
    "            LIMIT 5\n",
    "        \"\"\"\n",
    "    },\n",
    "    {\n",
    "        \"input\": \"What is the total spend and ROI for each campaign objective in the last quarter?\",\n",
    "        \"query\": \"\"\"\n",
    "            SELECT c.objective,\n",
    "                   SUM(ci.spend) as total_spend,\n",
    "                   SUM(cc.value) as total_conversions,\n",
    "                   (SUM(cc.value) / SUM(ci.spend)) as ROI\n",
    "            FROM campaigns c\n",
    "            JOIN campaign_insights ci ON c.id = ci.campaign_id\n",
    "            LEFT JOIN campaign_conversions cc ON ci.id = cc.campaign_insight_id\n",
    "            WHERE ci.date_start >= DATE_SUB(CURDATE(), INTERVAL 3 MONTH)\n",
    "            GROUP BY c.objective\n",
    "            ORDER BY ROI DESC\n",
    "        \"\"\"\n",
    "    },\n",
    "    {\n",
    "        \"input\": \"Which ad creative has the highest CTR for each campaign?\",\n",
    "        \"query\": \"\"\"\n",
    "            WITH ranked_creatives AS (\n",
    "                SELECT c.id as campaign_id,\n",
    "                       c.name as campaign_name,\n",
    "                       ac.id as creative_id,\n",
    "                       ac.name as creative_name,\n",
    "                       ai.ctr,\n",
    "                       ROW_NUMBER() OVER (PARTITION BY c.id ORDER BY ai.ctr DESC) as rank\n",
    "                FROM campaigns c\n",
    "                JOIN ads a ON c.id = a.campaign_id\n",
    "                JOIN ad_creatives ac ON a.id = ac.id\n",
    "                JOIN ad_insights ai ON a.id = ai.ad_id\n",
    "            )\n",
    "            SELECT campaign_id, campaign_name, creative_id, creative_name, ctr\n",
    "            FROM ranked_creatives\n",
    "            WHERE rank = 1\n",
    "            ORDER BY ctr DESC\n",
    "        \"\"\"\n",
    "    }\n",
    "]"
   ]
  },
  {
   "cell_type": "code",
   "execution_count": 10,
   "metadata": {},
   "outputs": [
    {
     "name": "stdout",
     "output_type": "stream",
     "text": [
      "messages=[HumanMessage(content='Which campaign has the highest number of clicks?\\nSQL Query:'), AIMessage(content='\\n            SELECT c.id, c.name, SUM(ci.clicks) as total_clicks\\n            FROM campaigns c\\n            JOIN campaign_insights ci ON c.id = ci.campaign_id\\n            GROUP BY c.id, c.name\\n            ORDER BY total_clicks DESC\\n            LIMIT 1\\n        '), HumanMessage(content='What is the average CTR for video ads in the last 30 days?\\nSQL Query:'), AIMessage(content='\\n            SELECT AVG(ai.ctr) as avg_ctr\\n            FROM ad_insights ai\\n            JOIN ads a ON ai.ad_id = a.id\\n            JOIN ad_creatives ac ON a.id = ac.id\\n            WHERE ac.video_id IS NOT NULL\\n              AND ai.date_start >= DATE_SUB(CURDATE(), INTERVAL 30 DAY)\\n        '), HumanMessage(content=\"List the top 5 campaigns by conversion rate for 'purchase' actions.\\nSQL Query:\"), AIMessage(content=\"\\n            SELECT c.name, \\n                   SUM(cc.value) as total_purchases,\\n                   SUM(ci.clicks) as total_clicks,\\n                   (SUM(cc.value) / SUM(ci.clicks)) * 100 as conversion_rate\\n            FROM campaigns c\\n            JOIN campaign_insights ci ON c.id = ci.campaign_id\\n            JOIN campaign_conversions cc ON ci.id = cc.campaign_insight_id\\n            WHERE cc.action_type = 'purchase'\\n            GROUP BY c.id, c.name\\n            ORDER BY conversion_rate DESC\\n            LIMIT 5\\n        \"), HumanMessage(content='What is the total spend and ROI for each campaign objective in the last quarter?\\nSQL Query:'), AIMessage(content='\\n            SELECT c.objective,\\n                   SUM(ci.spend) as total_spend,\\n                   SUM(cc.value) as total_conversions,\\n                   (SUM(cc.value) / SUM(ci.spend)) as ROI\\n            FROM campaigns c\\n            JOIN campaign_insights ci ON c.id = ci.campaign_id\\n            LEFT JOIN campaign_conversions cc ON ci.id = cc.campaign_insight_id\\n            WHERE ci.date_start >= DATE_SUB(CURDATE(), INTERVAL 3 MONTH)\\n            GROUP BY c.objective\\n            ORDER BY ROI DESC\\n        '), HumanMessage(content='Which ad creative has the highest CTR for each campaign?\\nSQL Query:'), AIMessage(content='\\n            WITH ranked_creatives AS (\\n                SELECT c.id as campaign_id,\\n                       c.name as campaign_name,\\n                       ac.id as creative_id,\\n                       ac.name as creative_name,\\n                       ai.ctr,\\n                       ROW_NUMBER() OVER (PARTITION BY c.id ORDER BY ai.ctr DESC) as rank\\n                FROM campaigns c\\n                JOIN ads a ON c.id = a.campaign_id\\n                JOIN ad_creatives ac ON a.id = ac.id\\n                JOIN ad_insights ai ON a.id = ai.ad_id\\n            )\\n            SELECT campaign_id, campaign_name, creative_id, creative_name, ctr\\n            FROM ranked_creatives\\n            WHERE rank = 1\\n            ORDER BY ctr DESC\\n        ')]\n"
     ]
    }
   ],
   "source": [
    "from langchain_core.prompts import ChatPromptTemplate,MessagesPlaceholder,FewShotChatMessagePromptTemplate,PromptTemplate\n",
    "\n",
    "example_prompt=ChatPromptTemplate.from_messages(\n",
    "    [\n",
    "        (\"human\", \"{input}\\nSQL Query:\"),\n",
    "        (\"ai\", \"{query}\")\n",
    "    ]\n",
    ")\n",
    "\n",
    "few_shot_prompt=FewShotChatMessagePromptTemplate(\n",
    "    example_prompt=example_prompt,\n",
    "    examples=examples,\n",
    "    input_variables=[\"input\"]\n",
    ")\n",
    "\n",
    "print(few_shot_prompt.invoke({\"input\":\"Which ads has the highest CTR?\"}))\n",
    "\n",
    "\n",
    "\n"
   ]
  },
  {
   "cell_type": "code",
   "execution_count": 13,
   "metadata": {},
   "outputs": [
    {
     "name": "stdout",
     "output_type": "stream",
     "text": [
      "Human: Which ad creative has the highest CTR for each campaign?\n",
      "SQL Query:\n",
      "AI: \n",
      "            WITH ranked_creatives AS (\n",
      "                SELECT c.id as campaign_id,\n",
      "                       c.name as campaign_name,\n",
      "                       ac.id as creative_id,\n",
      "                       ac.name as creative_name,\n",
      "                       ai.ctr,\n",
      "                       ROW_NUMBER() OVER (PARTITION BY c.id ORDER BY ai.ctr DESC) as rank\n",
      "                FROM campaigns c\n",
      "                JOIN ads a ON c.id = a.campaign_id\n",
      "                JOIN ad_creatives ac ON a.id = ac.id\n",
      "                JOIN ad_insights ai ON a.id = ai.ad_id\n",
      "            )\n",
      "            SELECT campaign_id, campaign_name, creative_id, creative_name, ctr\n",
      "            FROM ranked_creatives\n",
      "            WHERE rank = 1\n",
      "            ORDER BY ctr DESC\n",
      "        \n",
      "Human: What is the average CTR for video ads in the last 30 days?\n",
      "SQL Query:\n",
      "AI: \n",
      "            SELECT AVG(ai.ctr) as avg_ctr\n",
      "            FROM ad_insights ai\n",
      "            JOIN ads a ON ai.ad_id = a.id\n",
      "            JOIN ad_creatives ac ON a.id = ac.id\n",
      "            WHERE ac.video_id IS NOT NULL\n",
      "              AND ai.date_start >= DATE_SUB(CURDATE(), INTERVAL 30 DAY)\n",
      "        \n"
     ]
    }
   ],
   "source": [
    " from langchain_community.vectorstores import Chroma\n",
    " from langchain_core.example_selectors import SemanticSimilarityExampleSelector\n",
    " from langchain_openai import OpenAIEmbeddings\n",
    "\n",
    " vectorstore = Chroma()\n",
    " vectorstore.delete_collection()\n",
    " example_selector = SemanticSimilarityExampleSelector.from_examples(\n",
    "     examples,\n",
    "     OpenAIEmbeddings(),\n",
    "     vectorstore,\n",
    "     k=2,\n",
    "     input_keys=[\"input\"],\n",
    " )\n",
    " example_selector.select_examples({\"input\": \"how many ads we have?\"})\n",
    " few_shot_prompt = FewShotChatMessagePromptTemplate(\n",
    "     example_prompt=example_prompt,\n",
    "     example_selector=example_selector,\n",
    "     input_variables=[\"input\",\"top_k\"],\n",
    " )\n",
    " print(few_shot_prompt.format(input=\"How many ads are there?\"))\n",
    "\n"
   ]
  },
  {
   "cell_type": "code",
   "execution_count": 29,
   "metadata": {},
   "outputs": [
    {
     "data": {
      "text/plain": [
       "\"1. **Core Topic and Intent**: The user is seeking to identify the best campaign based on Click-Through Rate (CTR) performance.\\n\\n2. **Interpretation and Actionable Answer**: The SQL query calculates the average CTR for each campaign and sorts them in descending order to find the campaign with the highest average CTR. The result shows that the campaign with ID 120214454200140311 and name 'MM_Motion(B)_VideoAd_07072024' has the highest average CTR of 1.2348770000.\\n\\n3. **Insights and Analysis**:\\n   - The campaign 'MM_Motion(B)_VideoAd_07072024' stands out with a significantly higher CTR compared to other campaigns.\\n   - A high CTR indicates that this campaign is effectively engaging users and driving them to click on the ad, which can lead to increased conversions or website visits.\\n\\n4. **Actionable Recommendations**:\\n   - **Optimize Other Campaigns**: Analyze the creatives, targeting, and messaging of other campaigns to identify elements that can be improved to boost CTR.\\n   - **Scale Successful Strategies**: Identify the factors contributing to the high CTR of 'MM_Motion(B)_VideoAd_07072024' and replicate those strategies in other campaigns to drive better performance.\\n\\n5. **Follow-up Analyses**:\\n   - **Conversion Rate Analysis**: Explore the conversion rates of campaigns to understand how well they convert clicks into desired actions.\\n   - **Segmented Analysis**: Break down CTR performance by audience segments, ad placements, or devices to uncover insights for targeted optimizations.\\n\\nIn conclusion, the campaign 'MM_Motion(B)_VideoAd_07072024' is the best-performing campaign based on CTR. By optimizing underperforming campaigns and scaling successful strategies, you can enhance overall ad performance. Further analyses on conversion rates and segmented performance can provide deeper insights for refining ad strategies.\""
      ]
     },
     "execution_count": 29,
     "metadata": {},
     "output_type": "execute_result"
    }
   ],
   "source": [
    " final_prompt = ChatPromptTemplate.from_messages(\n",
    "     [\n",
    "         (\"system\", \"You are a MySQL expert. Given an input question, create a syntactically correct MySQL query to run. Unless otherwise specificed.\\n\\nHere is the relevant table info: {table_info}\\n\\nBelow are a number of examples of questions and their corresponding SQL queries.\"),\n",
    "         few_shot_prompt,\n",
    "         (\"human\", \"{input}\"),\n",
    "     ]\n",
    " )\n",
    " generate_query = create_sql_query_chain(llm, db,final_prompt)\n",
    " chain = (\n",
    " RunnablePassthrough.assign(query=generate_query).assign(\n",
    "     result=itemgetter(\"query\") | execute_query\n",
    " )\n",
    " | rephrase_answer\n",
    " )\n",
    " chain.invoke({\"question\": \"Best campaign based on the CTR\"})\n",
    "\n"
   ]
  }
 ],
 "metadata": {
  "kernelspec": {
   "display_name": "Python 3",
   "language": "python",
   "name": "python3"
  },
  "language_info": {
   "codemirror_mode": {
    "name": "ipython",
    "version": 3
   },
   "file_extension": ".py",
   "mimetype": "text/x-python",
   "name": "python",
   "nbconvert_exporter": "python",
   "pygments_lexer": "ipython3",
   "version": "3.10.0"
  }
 },
 "nbformat": 4,
 "nbformat_minor": 2
}
