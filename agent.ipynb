{
 "cells": [
  {
   "cell_type": "markdown",
   "metadata": {},
   "source": [
    "Database Credentials\n"
   ]
  },
  {
   "cell_type": "code",
   "execution_count": 27,
   "metadata": {},
   "outputs": [
    {
     "data": {
      "text/plain": [
       "True"
      ]
     },
     "execution_count": 27,
     "metadata": {},
     "output_type": "execute_result"
    }
   ],
   "source": [
    "import os\n",
    "\n",
    "from dotenv import load_dotenv\n",
    "\n",
    "load_dotenv()"
   ]
  },
  {
   "cell_type": "code",
   "execution_count": 28,
   "metadata": {},
   "outputs": [],
   "source": [
    "os.environ[\"OPENAI_API_KEY\"] = os.getenv(\"OPENAI_API_KEY\")"
   ]
  },
  {
   "cell_type": "code",
   "execution_count": 37,
   "metadata": {},
   "outputs": [
    {
     "name": "stdout",
     "output_type": "stream",
     "text": [
      "mysql\n",
      "['ad_creatives', 'ad_insights', 'ad_tracking_specs', 'ads', 'campaign_actions', 'campaign_conversions', 'campaign_insights', 'campaigns']\n",
      "\n",
      "CREATE TABLE ad_creatives (\n",
      "\tid BIGINT NOT NULL, \n",
      "\tname VARCHAR(255), \n",
      "\ttitle VARCHAR(255), \n",
      "\tbody TEXT, \n",
      "\tthumbnail_url TEXT, \n",
      "\tvideo_id BIGINT, \n",
      "\tcall_to_action_type VARCHAR(50), \n",
      "\tpage_id VARCHAR(50), \n",
      "\tPRIMARY KEY (id)\n",
      ")COLLATE utf8mb4_0900_ai_ci ENGINE=InnoDB DEFAULT CHARSET=utf8mb4\n",
      "\n",
      "/*\n",
      "3 rows from ad_creatives table:\n",
      "id\tname\ttitle\tbody\tthumbnail_url\tvideo_id\tcall_to_action_type\tpage_id\n",
      "120213321698260311\tBe the Monk in Marketing 2024-05-22-06a6e70c8d6b902539eaa0f241f2e1c4\tBe the Monk in Marketing\t🚀 Elevate your game! Dentsu & Publicis insiders swear by us. Unlock 🔓 top case studies for free.\thttps://external.fmaa1-2.fna.fbcdn.net/emg1/v/t13/6227554188890667404?url=https%3A%2F%2Fwww.facebook\tNone\tSUBSCRIBE\t125267114004054\n",
      "120213858232380311\t{{product.name}} 2024-06-10-e966e3395993c4a04c6f1e2f176eb43f\tNone\tNone\thttps://scontent.fmaa1-2.fna.fbcdn.net/v/t45.1600-4/441823918_120213857955590311_7513623919441861051\tNone\tNone\t125267114004054\n",
      "120213858799770311\tMarketing Monk 2024-06-10-eafc1fcacdb3ace323ab7c550f301160\tMarketing Monk\tReady to elevate your marketing skills? Look no further than Marketing Monk's FREE newsletter!\thttps://external.fmaa1-2.fna.fbcdn.net/emg1/v/t13/392420260200858147?url=https%3A%2F%2Fwww.facebook.\tNone\tSUBSCRIBE\t125267114004054\n",
      "*/\n",
      "\n",
      "\n",
      "CREATE TABLE ad_insights (\n",
      "\tid BIGINT NOT NULL AUTO_INCREMENT, \n",
      "\tad_id BIGINT, \n",
      "\timpressions INTEGER, \n",
      "\tclicks INTEGER, \n",
      "\tspend DECIMAL(10, 2), \n",
      "\treach INTEGER, \n",
      "\tfrequency DECIMAL(10, 6), \n",
      "\tctr DECIMAL(10, 6), \n",
      "\tcpm DECIMAL(10, 6), \n",
      "\tcpp DECIMAL(10, 6), \n",
      "\tdate_start DATE, \n",
      "\tdate_stop DATE, \n",
      "\tPRIMARY KEY (id), \n",
      "\tCONSTRAINT ad_insights_ibfk_1 FOREIGN KEY(ad_id) REFERENCES ads (id)\n",
      ")COLLATE utf8mb4_0900_ai_ci ENGINE=InnoDB DEFAULT CHARSET=utf8mb4\n",
      "\n",
      "/*\n",
      "3 rows from ad_insights table:\n",
      "id\tad_id\timpressions\tclicks\tspend\treach\tfrequency\tctr\tcpm\tcpp\tdate_start\tdate_stop\n",
      "2\t120215699526770311\t42807\t264\t1988.24\t35327\t1.211736\t0.616722\t46.446609\t56.281032\t2024-08-17\t2024-08-24\n",
      "3\t120215698785280311\t54779\t672\t1989.36\t45424\t1.205948\t1.226747\t36.316107\t43.795350\t2024-08-17\t2024-08-24\n",
      "4\t120215451340430311\t146946\t924\t6332.79\t97383\t1.508949\t0.628802\t43.096035\t65.029728\t2024-08-17\t2024-08-24\n",
      "*/\n",
      "\n",
      "\n",
      "CREATE TABLE ad_tracking_specs (\n",
      "\tid BIGINT NOT NULL AUTO_INCREMENT, \n",
      "\tad_id BIGINT, \n",
      "\taction_type VARCHAR(50), \n",
      "\tfb_pixel VARCHAR(50), \n",
      "\tpost VARCHAR(50), \n",
      "\tpost_wall VARCHAR(50), \n",
      "\tpage VARCHAR(50), \n",
      "\tPRIMARY KEY (id), \n",
      "\tCONSTRAINT ad_tracking_specs_ibfk_1 FOREIGN KEY(ad_id) REFERENCES ads (id)\n",
      ")COLLATE utf8mb4_0900_ai_ci ENGINE=InnoDB DEFAULT CHARSET=utf8mb4\n",
      "\n",
      "/*\n",
      "3 rows from ad_tracking_specs table:\n",
      "id\tad_id\taction_type\tfb_pixel\tpost\tpost_wall\tpage\n",
      "5\t120215699526770311\toffsite_conversion\t1430008937577016\tNone\tNone\tNone\n",
      "6\t120215699526770311\tonsite_conversion\tNone\tNone\tNone\tNone\n",
      "7\t120215699526770311\tlink_click\tNone\t122183406704036541\t125267114004054\tNone\n",
      "*/\n",
      "\n",
      "\n",
      "CREATE TABLE ads (\n",
      "\tid BIGINT NOT NULL, \n",
      "\tname VARCHAR(255), \n",
      "\tstatus VARCHAR(20), \n",
      "\tcampaign_id BIGINT, \n",
      "\taccount_id VARCHAR(50), \n",
      "\tplatform VARCHAR(50), \n",
      "\tPRIMARY KEY (id)\n",
      ")COLLATE utf8mb4_0900_ai_ci ENGINE=InnoDB DEFAULT CHARSET=utf8mb4\n",
      "\n",
      "/*\n",
      "3 rows from ads table:\n",
      "id\tname\tstatus\tcampaign_id\taccount_id\tplatform\n",
      "120213321637610311\tMM_iCloudNote_Ad_Insta\tACTIVE\t120213321637590311\tact_624496083171435\tFacebook\n",
      "120213857819190311\tMM_DarkGraph_Ad_Insta\tACTIVE\t120213857819140311\tact_624496083171435\tFacebook\n",
      "120213858236900311\tMM_Text_Ad_Insta\tACTIVE\t120213858236880311\tact_624496083171435\tFacebook\n",
      "*/\n",
      "\n",
      "\n",
      "CREATE TABLE campaign_actions (\n",
      "\tid BIGINT NOT NULL AUTO_INCREMENT, \n",
      "\tcampaign_insight_id BIGINT, \n",
      "\taction_type VARCHAR(100), \n",
      "\tvalue INTEGER, \n",
      "\tPRIMARY KEY (id), \n",
      "\tCONSTRAINT campaign_actions_ibfk_1 FOREIGN KEY(campaign_insight_id) REFERENCES campaign_insights (id)\n",
      ")COLLATE utf8mb4_0900_ai_ci ENGINE=InnoDB DEFAULT CHARSET=utf8mb4\n",
      "\n",
      "/*\n",
      "3 rows from campaign_actions table:\n",
      "id\tcampaign_insight_id\taction_type\tvalue\n",
      "9\t2\tlanding_page_view\t70\n",
      "10\t2\tonsite_conversion.post_save\t15\n",
      "11\t2\tpage_engagement\t358\n",
      "*/\n",
      "\n",
      "\n",
      "CREATE TABLE campaign_conversions (\n",
      "\tid BIGINT NOT NULL AUTO_INCREMENT, \n",
      "\tcampaign_insight_id BIGINT, \n",
      "\taction_type VARCHAR(100), \n",
      "\tvalue INTEGER, \n",
      "\tPRIMARY KEY (id), \n",
      "\tCONSTRAINT campaign_conversions_ibfk_1 FOREIGN KEY(campaign_insight_id) REFERENCES campaign_insights (id)\n",
      ")COLLATE utf8mb4_0900_ai_ci ENGINE=InnoDB DEFAULT CHARSET=utf8mb4\n",
      "\n",
      "/*\n",
      "3 rows from campaign_conversions table:\n",
      "id\tcampaign_insight_id\taction_type\tvalue\n",
      "1\t2\tsubscribe_website\t51\n",
      "2\t2\tsubscribe_total\t51\n",
      "3\t3\tsubscribe_website\t192\n",
      "*/\n",
      "\n",
      "\n",
      "CREATE TABLE campaign_insights (\n",
      "\tid BIGINT NOT NULL AUTO_INCREMENT, \n",
      "\tcampaign_id BIGINT, \n",
      "\timpressions INTEGER, \n",
      "\tclicks INTEGER, \n",
      "\tspend DECIMAL(10, 2), \n",
      "\treach INTEGER, \n",
      "\tfrequency DECIMAL(10, 6), \n",
      "\tctr DECIMAL(10, 6), \n",
      "\tcpm DECIMAL(10, 6), \n",
      "\tcpp DECIMAL(10, 6), \n",
      "\tcpc DECIMAL(10, 6), \n",
      "\tunique_clicks INTEGER, \n",
      "\tunique_ctr DECIMAL(10, 6), \n",
      "\tdate_start DATE, \n",
      "\tdate_stop DATE, \n",
      "\tPRIMARY KEY (id), \n",
      "\tCONSTRAINT campaign_insights_ibfk_1 FOREIGN KEY(campaign_id) REFERENCES campaigns (id)\n",
      ")COLLATE utf8mb4_0900_ai_ci ENGINE=InnoDB DEFAULT CHARSET=utf8mb4\n",
      "\n",
      "/*\n",
      "3 rows from campaign_insights table:\n",
      "id\tcampaign_id\timpressions\tclicks\tspend\treach\tfrequency\tctr\tcpm\tcpp\tcpc\tunique_clicks\tunique_ctr\tdate_start\tdate_stop\n",
      "2\t120215699526790311\t42807\t264\t1988.24\t35327\t1.211736\t0.616722\t46.446609\t56.281032\tNone\t248\t0.702013\t2024-08-17\t2024-08-24\n",
      "3\t120215698785120311\t54779\t672\t1989.36\t45424\t1.205948\t1.226747\t36.316107\t43.795350\tNone\t628\t1.382529\t2024-08-17\t2024-08-24\n",
      "4\t120215463137090311\t17611\t130\t820.54\t16003\t1.100481\t0.738175\t46.592471\t51.274136\tNone\t115\t0.718615\t2024-08-17\t2024-08-24\n",
      "*/\n",
      "\n",
      "\n",
      "CREATE TABLE campaigns (\n",
      "\tid BIGINT NOT NULL, \n",
      "\tname VARCHAR(255), \n",
      "\tplatform VARCHAR(50), \n",
      "\tobjective VARCHAR(50), \n",
      "\tstatus VARCHAR(20), \n",
      "\tstart_time DATETIME, \n",
      "\tdaily_budget DECIMAL(10, 2), \n",
      "\tbid_strategy VARCHAR(50), \n",
      "\tPRIMARY KEY (id)\n",
      ")COLLATE utf8mb4_0900_ai_ci ENGINE=InnoDB DEFAULT CHARSET=utf8mb4\n",
      "\n",
      "/*\n",
      "3 rows from campaigns table:\n",
      "id\tname\tplatform\tobjective\tstatus\tstart_time\tdaily_budget\tbid_strategy\n",
      "120213321637590311\tMM-Static_iCloudNote_23052024\tFacebook\tOUTCOME_LEADS\tACTIVE\t2024-05-23 03:12:53\t65000.00\tLOWEST_COST_WITHOUT_CAP\n",
      "120213857819140311\tMM_StaticAd_DarkGraph_10062024\tFacebook\tOUTCOME_LEADS\tACTIVE\t2024-06-10 09:40:40\tNone\tNone\n",
      "120213858236880311\tMM_Static_TextAd_10062024\tFacebook\tOUTCOME_LEADS\tACTIVE\t2024-06-10 09:52:59\tNone\tNone\n",
      "*/\n"
     ]
    }
   ],
   "source": [
    "import os\n",
    "from dotenv import load_dotenv\n",
    "from langchain_community.utilities.sql_database import SQLDatabase\n",
    "\n",
    "# Load environment variables\n",
    "load_dotenv()\n",
    "\n",
    "# Get database credentials from environment variables\n",
    "db_user = os.getenv(\"DB_USER\")\n",
    "db_password = os.getenv(\"DB_PASSWORD\")\n",
    "db_host = os.getenv(\"DB_HOST\")\n",
    "db_port = os.getenv(\"DB_PORT\")\n",
    "db_name = os.getenv(\"DB_NAME\")\n",
    "\n",
    "# Create database connection\n",
    "db = SQLDatabase.from_uri(f\"mysql+pymysql://{db_user}:{db_password}@{db_host}:{db_port}/{db_name}\")\n",
    "print(db.dialect)\n",
    "print(db.get_usable_table_names())\n",
    "print(db.table_info)"
   ]
  },
  {
   "cell_type": "code",
   "execution_count": 30,
   "metadata": {},
   "outputs": [
    {
     "name": "stdout",
     "output_type": "stream",
     "text": [
      "SELECT campaigns.id, campaigns.name, SUM(campaign_insights.clicks) AS total_clicks\n",
      "FROM campaigns\n",
      "JOIN campaign_insights ON campaigns.id = campaign_insights.campaign_id\n",
      "GROUP BY campaigns.id\n",
      "ORDER BY total_clicks DESC\n",
      "LIMIT 1;\n"
     ]
    }
   ],
   "source": [
    "from langchain.chains import create_sql_query_chain\n",
    "from langchain_openai import ChatOpenAI\n",
    "\n",
    "llm=ChatOpenAI(model_name=\"gpt-3.5-turbo\", temperature=0)\n",
    "generate_query_chain=create_sql_query_chain(llm, db)\n",
    "\n",
    "query=generate_query_chain.invoke({\"question\":\"which campaign has the most clicks?\"})\n",
    "\n",
    "print(query)\n"
   ]
  },
  {
   "cell_type": "code",
   "execution_count": 31,
   "metadata": {},
   "outputs": [
    {
     "data": {
      "text/plain": [
       "\"[(120214454200140311, 'MM_Motion(B)_VideoAd_07072024', Decimal('2122'))]\""
      ]
     },
     "execution_count": 31,
     "metadata": {},
     "output_type": "execute_result"
    }
   ],
   "source": [
    "from langchain_community.tools.sql_database.tool import QuerySQLDataBaseTool\n",
    "execute_query = QuerySQLDataBaseTool(db=db)\n",
    "execute_query.invoke(query)\n"
   ]
  },
  {
   "cell_type": "code",
   "execution_count": 32,
   "metadata": {},
   "outputs": [
    {
     "data": {
      "text/plain": [
       "\"[(120214454200140311, 'MM_Motion(B)_VideoAd_07072024', Decimal('2122'))]\""
      ]
     },
     "execution_count": 32,
     "metadata": {},
     "output_type": "execute_result"
    }
   ],
   "source": [
    "chain= generate_query_chain | execute_query\n",
    "chain.invoke({\"question\":\"Which campaign has the most clicks?\"})"
   ]
  },
  {
   "cell_type": "code",
   "execution_count": 33,
   "metadata": {},
   "outputs": [
    {
     "name": "stdout",
     "output_type": "stream",
     "text": [
      "You are a MySQL expert. Given an input question, first create a syntactically correct MySQL query to run, then look at the results of the query and return the answer to the input question.\n",
      "Unless the user specifies in the question a specific number of examples to obtain, query for at most 5 results using the LIMIT clause as per MySQL. You can order the results to return the most informative data in the database.\n",
      "Never query for all columns from a table. You must query only the columns that are needed to answer the question. Wrap each column name in backticks (`) to denote them as delimited identifiers.\n",
      "Pay attention to use only the column names you can see in the tables below. Be careful to not query for columns that do not exist. Also, pay attention to which column is in which table.\n",
      "Pay attention to use CURDATE() function to get the current date, if the question involves \"today\".\n",
      "\n",
      "Use the following format:\n",
      "\n",
      "Question: Question here\n",
      "SQLQuery: SQL Query to run\n",
      "SQLResult: Result of the SQLQuery\n",
      "Answer: Final answer here\n",
      "\n",
      "Only use the following tables:\n",
      "\u001b[33;1m\u001b[1;3m{table_info}\u001b[0m\n",
      "\n",
      "Question: \u001b[33;1m\u001b[1;3m{input}\u001b[0m\n"
     ]
    }
   ],
   "source": [
    "chain.get_prompts()[0].pretty_print()"
   ]
  },
  {
   "cell_type": "code",
   "execution_count": 35,
   "metadata": {},
   "outputs": [
    {
     "data": {
      "text/plain": [
       "\"The campaign with the most impressions is 'MM_UGC_VideoAd_20062024' with 213,083 impressions.\""
      ]
     },
     "execution_count": 35,
     "metadata": {},
     "output_type": "execute_result"
    }
   ],
   "source": [
    "from operator import itemgetter\n",
    "\n",
    "from langchain_core.output_parsers import StrOutputParser\n",
    "from langchain_core.prompts import PromptTemplate\n",
    "from langchain_core.runnables import RunnablePassthrough\n",
    "\n",
    "answer_prompt = PromptTemplate.from_template(\n",
    "     \"\"\"Given the following user question, corresponding SQL query, and SQL result, answer the user question.\n",
    "\n",
    " Question: {question}\n",
    " SQL Query: {query}\n",
    " SQL Result: {result}\n",
    " Answer: \"\"\"\n",
    " )\n",
    "\n",
    "rephrase_answer = answer_prompt | llm | StrOutputParser()\n",
    "\n",
    "chain = (\n",
    "    RunnablePassthrough.assign(query=generate_query_chain).assign(\n",
    "        result=itemgetter(\"query\") | execute_query\n",
    "     )\n",
    "     | rephrase_answer\n",
    " )\n",
    "\n",
    "chain.invoke({\"question\": \"Campaign with the most impressions?\"})\n",
    "\n",
    "\n",
    "\n",
    "\n",
    "\n",
    "\n"
   ]
  }
 ],
 "metadata": {
  "kernelspec": {
   "display_name": "Python 3",
   "language": "python",
   "name": "python3"
  },
  "language_info": {
   "codemirror_mode": {
    "name": "ipython",
    "version": 3
   },
   "file_extension": ".py",
   "mimetype": "text/x-python",
   "name": "python",
   "nbconvert_exporter": "python",
   "pygments_lexer": "ipython3",
   "version": "3.10.0"
  }
 },
 "nbformat": 4,
 "nbformat_minor": 2
}
